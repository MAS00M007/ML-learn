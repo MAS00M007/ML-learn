{
 "cells": [
  {
   "cell_type": "code",
   "execution_count": 30,
   "id": "aa2865f6-e51f-4152-8109-33cdada7298e",
   "metadata": {},
   "outputs": [],
   "source": [
    "import pandas as pd\n",
    "import seaborn as sns\n",
    "import matplotlib.pyplot as plt"
   ]
  },
  {
   "cell_type": "code",
   "execution_count": 5,
   "id": "a88d90f4-f3c2-4ea1-a275-6a9b7aa805ca",
   "metadata": {},
   "outputs": [
    {
     "data": {
      "text/html": [
       "<div>\n",
       "<style scoped>\n",
       "    .dataframe tbody tr th:only-of-type {\n",
       "        vertical-align: middle;\n",
       "    }\n",
       "\n",
       "    .dataframe tbody tr th {\n",
       "        vertical-align: top;\n",
       "    }\n",
       "\n",
       "    .dataframe thead th {\n",
       "        text-align: right;\n",
       "    }\n",
       "</style>\n",
       "<table border=\"1\" class=\"dataframe\">\n",
       "  <thead>\n",
       "    <tr style=\"text-align: right;\">\n",
       "      <th></th>\n",
       "      <th>CGPA</th>\n",
       "      <th>Package (LPA)</th>\n",
       "    </tr>\n",
       "  </thead>\n",
       "  <tbody>\n",
       "    <tr>\n",
       "      <th>0</th>\n",
       "      <td>6.5</td>\n",
       "      <td>3.0</td>\n",
       "    </tr>\n",
       "    <tr>\n",
       "      <th>1</th>\n",
       "      <td>7.0</td>\n",
       "      <td>3.5</td>\n",
       "    </tr>\n",
       "    <tr>\n",
       "      <th>2</th>\n",
       "      <td>7.2</td>\n",
       "      <td>3.8</td>\n",
       "    </tr>\n",
       "  </tbody>\n",
       "</table>\n",
       "</div>"
      ],
      "text/plain": [
       "   CGPA  Package (LPA)\n",
       "0   6.5            3.0\n",
       "1   7.0            3.5\n",
       "2   7.2            3.8"
      ]
     },
     "execution_count": 5,
     "metadata": {},
     "output_type": "execute_result"
    }
   ],
   "source": [
    "ds = pd.DataFrame({\n",
    "    \"CGPA\": [6.5, 7.0, 7.2, 7.5, 7.8, 8.0, 8.3, 8.5, 9.0, 9.5],\n",
    "    \"Package (LPA)\": [3.0, 3.5, 3.8, 4.2, 4.5, 5.0, 5.5, 6.0, 7.5, 9.0]\n",
    "})\n",
    "ds.head(3)"
   ]
  },
  {
   "cell_type": "code",
   "execution_count": 32,
   "id": "e68b2370-612c-4d24-8ec3-89b81ae739a4",
   "metadata": {},
   "outputs": [
    {
     "data": {
      "image/png": "[encoded data removed]",
      "text/plain": [
       "<Figure size 640x480 with 1 Axes>"
      ]
     },
     "metadata": {},
     "output_type": "display_data"
    }
   ],
   "source": [
    "sns.scatterplot(x=\"CGPA\",y=\"Package (LPA)\",data=ds)\n",
    "plt.show()"
   ]
  },
  {
   "cell_type": "code",
   "execution_count": 8,
   "id": "02d69f0e-9805-44ca-b0b1-8a01d604914e",
   "metadata": {},
   "outputs": [],
   "source": [
    "x = ds.iloc[:,:-1]\n",
    "y = ds[\"Package (LPA)\"]"
   ]
  },
  {
   "cell_type": "code",
   "execution_count": 17,
   "id": "31ffd138-e1e2-4eed-82f8-bdbf10df48bc",
   "metadata": {},
   "outputs": [],
   "source": [
    "from sklearn.linear_model import LinearRegression"
   ]
  },
  {
   "cell_type": "code",
   "execution_count": 33,
   "id": "9f0afcbe-8d29-49dd-b815-b37fa37a8e73",
   "metadata": {},
   "outputs": [],
   "source": [
    "from sklearn.model_selection import cross_val_score"
   ]
  },
  {
   "cell_type": "code",
   "execution_count": 47,
   "id": "fcc158bf-743d-40b1-892a-08c6e4f330ab",
   "metadata": {},
   "outputs": [],
   "source": [
    "p = cross_val_score(LinearRegression(),x,y,cv=LeavePOut(p=5))"
   ]
  },
  {
   "cell_type": "code",
   "execution_count": 48,
   "id": "316ef045-83b2-4adb-9817-99199a663207",
   "metadata": {},
   "outputs": [
    {
     "data": {
      "text/plain": [
       "array([-595.78095791, -274.838919  ,  -90.32388485,  -42.91491182,\n",
       "        -34.66973897,  -13.45849509,   10.14347826,   10.56853082,\n",
       "         13.44984761,   20.00984547,   31.57988741,   32.11378211,\n",
       "         32.24368607,   36.46591738,   37.69035082,   40.62978105,\n",
       "         42.08433609,   45.88129634,   47.99762661,   49.77693508,\n",
       "         50.13659429,   50.24462885,   51.76270861,   53.62787733,\n",
       "         53.70193204,   54.43786982,   55.94974643,   57.64631713,\n",
       "         58.5858493 ,   58.94263725,   59.6591627 ,   59.94679311,\n",
       "         60.76488322,   60.92613383,   62.13276462,   62.40286634,\n",
       "         62.42051093,   62.61540038,   63.12033215,   63.32751183,\n",
       "         63.35790303,   63.83467628,   65.15253502,   65.35120326,\n",
       "         65.43923717,   65.93221262,   68.20952293,   68.83489675,\n",
       "         69.1273725 ,   69.51175337,   69.64675437,   69.74954445,\n",
       "         69.76396352,   70.54056866,   71.05281833,   71.17237663,\n",
       "         71.27882031,   71.65652439,   71.69647527,   71.72321881,\n",
       "         71.9182659 ,   71.93381504,   72.16876409,   72.31390569,\n",
       "         72.40129778,   72.76322294,   72.80891346,   73.00252843,\n",
       "         73.55014013,   74.425473  ,   74.86569471,   74.87205721,\n",
       "         75.44708332,   75.98955305,   76.22152248,   76.43135729,\n",
       "         76.69159932,   77.61838211,   77.7510491 ,   78.24227624,\n",
       "         78.24846388,   78.625964  ,   79.04206379,   79.2618555 ,\n",
       "         79.34773287,   79.45467643,   80.19868619,   80.27990147,\n",
       "         80.40197331,   80.74822078,   81.26117056,   81.26786104,\n",
       "         81.3169029 ,   81.44207012,   81.66137604,   82.01258401,\n",
       "         82.2459645 ,   82.4206008 ,   82.45034557,   82.56875419,\n",
       "         82.94366209,   83.00466508,   83.09277665,   83.20798674,\n",
       "         83.21574295,   83.32513407,   83.33996825,   83.35712813,\n",
       "         83.35970095,   83.5958399 ,   84.10276322,   84.18786669,\n",
       "         84.40994387,   85.18272507,   85.30758796,   85.48147871,\n",
       "         85.54571508,   85.68373258,   85.89142402,   86.12401156,\n",
       "         86.22829881,   86.31603131,   86.39791806,   86.59070582,\n",
       "         86.62948493,   86.88164913,   87.23174828,   87.41448548,\n",
       "         87.44627011,   87.48705606,   87.6213717 ,   87.71653743,\n",
       "         87.71869325,   87.74083008,   87.74552361,   87.81741376,\n",
       "         87.85209566,   88.00059326,   88.00125787,   88.0636289 ,\n",
       "         88.18748701,   88.18757701,   88.31498206,   88.34303012,\n",
       "         88.39686543,   88.50083048,   88.55782137,   88.63219349,\n",
       "         88.67656211,   88.79627634,   88.92806268,   88.93089179,\n",
       "         88.99655895,   89.03161389,   89.07636305,   89.30339768,\n",
       "         89.35970948,   89.37277167,   89.47305963,   89.52583253,\n",
       "         89.73536608,   89.82132864,   89.9936461 ,   90.19536845,\n",
       "         90.24966268,   90.37635755,   90.60612482,   90.63163939,\n",
       "         90.65269508,   90.65852925,   90.79381265,   90.8328185 ,\n",
       "         91.04933898,   91.22843893,   91.38014103,   91.41595712,\n",
       "         91.51158661,   91.56495755,   91.69484044,   91.78578346,\n",
       "         91.84442084,   91.84477035,   91.93242608,   91.94360178,\n",
       "         92.09101587,   92.10287573,   92.16786345,   92.18118871,\n",
       "         92.26839807,   92.28563304,   92.29185255,   92.34452473,\n",
       "         92.46962541,   92.54264485,   92.55692158,   92.64663972,\n",
       "         92.64819165,   92.65144078,   92.71568642,   92.72598977,\n",
       "         92.76364919,   92.77235897,   92.87536755,   92.92836631,\n",
       "         92.93407573,   92.9972418 ,   93.06034846,   93.0825615 ,\n",
       "         93.09104219,   93.09618939,   93.13891186,   93.16544339,\n",
       "         93.19091979,   93.21112061,   93.26118167,   93.31785748,\n",
       "         93.32021958,   93.33134077,   93.33380617,   93.34752964,\n",
       "         93.39717476,   93.42511971,   93.43669705,   93.44191269,\n",
       "         93.46388596,   93.47268694,   93.49286722,   93.49805071,\n",
       "         93.50444571,   93.53517693,   93.54725839,   93.56251128,\n",
       "         93.58895306,   93.62584688,   93.6576987 ,   93.65976523,\n",
       "         93.71918299,   93.7326347 ,   93.75059108,   94.24441669,\n",
       "         94.32296779,   94.49632991,   95.202755  ,   95.31380231,\n",
       "         95.43234628,   95.47507713,   95.90100437,   96.69605562,\n",
       "         96.80520518,   97.29686818,   97.97685432,   98.32669206])"
      ]
     },
     "execution_count": 48,
     "metadata": {},
     "output_type": "execute_result"
    }
   ],
   "source": [
    "p.sort()\n",
    "p*100"
   ]
  },
  {
   "cell_type": "code",
   "execution_count": null,
   "id": "be80ac27-c1f8-4031-9599-e08177b8e759",
   "metadata": {},
   "outputs": [],
   "source": []
  },
  {
   "cell_type": "code",
   "execution_count": null,
   "id": "93bc3269-44ea-47c1-8b48-55e0b0c0d24b",
   "metadata": {},
   "outputs": [],
   "source": []
  },
  {
   "cell_type": "code",
   "execution_count": null,
   "id": "e8ce6aeb-3c0b-47d8-bbc3-caae6fe1f91a",
   "metadata": {},
   "outputs": [],
   "source": []
  },
  {
   "cell_type": "code",
   "execution_count": 9,
   "id": "42cc79aa-061c-4ce1-970a-20135f26ff64",
   "metadata": {},
   "outputs": [],
   "source": [
    "from sklearn.model_selection import LeaveOneOut,LeavePOut,KFold,StratifiedKFold"
   ]
  },
  {
   "cell_type": "code",
   "execution_count": 10,
   "id": "01d2f4ba-c644-447a-8ea7-20965a1dd09f",
   "metadata": {},
   "outputs": [
    {
     "name": "stdout",
     "output_type": "stream",
     "text": [
      "[1 2 3 4 5 6 7 8 9] [0]\n",
      "[0 2 3 4 5 6 7 8 9] [1]\n",
      "[0 1 3 4 5 6 7 8 9] [2]\n",
      "[0 1 2 4 5 6 7 8 9] [3]\n",
      "[0 1 2 3 5 6 7 8 9] [4]\n",
      "[0 1 2 3 4 6 7 8 9] [5]\n",
      "[0 1 2 3 4 5 7 8 9] [6]\n",
      "[0 1 2 3 4 5 6 8 9] [7]\n",
      "[0 1 2 3 4 5 6 7 9] [8]\n",
      "[0 1 2 3 4 5 6 7 8] [9]\n"
     ]
    }
   ],
   "source": [
    "lo = LeaveOneOut()\n",
    "\n",
    "for train,test in lo.split(x,y):\n",
    "    print(train,test)"
   ]
  },
  {
   "cell_type": "code",
   "execution_count": 11,
   "id": "08a6c206-9576-49e9-8f54-7e10addee447",
   "metadata": {},
   "outputs": [
    {
     "name": "stdout",
     "output_type": "stream",
     "text": [
      "[3 4 5 6 7 8 9] [0 1 2]\n",
      "[2 4 5 6 7 8 9] [0 1 3]\n",
      "[2 3 5 6 7 8 9] [0 1 4]\n",
      "[2 3 4 6 7 8 9] [0 1 5]\n",
      "[2 3 4 5 7 8 9] [0 1 6]\n",
      "[2 3 4 5 6 8 9] [0 1 7]\n",
      "[2 3 4 5 6 7 9] [0 1 8]\n",
      "[2 3 4 5 6 7 8] [0 1 9]\n",
      "[1 4 5 6 7 8 9] [0 2 3]\n",
      "[1 3 5 6 7 8 9] [0 2 4]\n",
      "[1 3 4 6 7 8 9] [0 2 5]\n",
      "[1 3 4 5 7 8 9] [0 2 6]\n",
      "[1 3 4 5 6 8 9] [0 2 7]\n",
      "[1 3 4 5 6 7 9] [0 2 8]\n",
      "[1 3 4 5 6 7 8] [0 2 9]\n",
      "[1 2 5 6 7 8 9] [0 3 4]\n",
      "[1 2 4 6 7 8 9] [0 3 5]\n",
      "[1 2 4 5 7 8 9] [0 3 6]\n",
      "[1 2 4 5 6 8 9] [0 3 7]\n",
      "[1 2 4 5 6 7 9] [0 3 8]\n",
      "[1 2 4 5 6 7 8] [0 3 9]\n",
      "[1 2 3 6 7 8 9] [0 4 5]\n",
      "[1 2 3 5 7 8 9] [0 4 6]\n",
      "[1 2 3 5 6 8 9] [0 4 7]\n",
      "[1 2 3 5 6 7 9] [0 4 8]\n",
      "[1 2 3 5 6 7 8] [0 4 9]\n",
      "[1 2 3 4 7 8 9] [0 5 6]\n",
      "[1 2 3 4 6 8 9] [0 5 7]\n",
      "[1 2 3 4 6 7 9] [0 5 8]\n",
      "[1 2 3 4 6 7 8] [0 5 9]\n",
      "[1 2 3 4 5 8 9] [0 6 7]\n",
      "[1 2 3 4 5 7 9] [0 6 8]\n",
      "[1 2 3 4 5 7 8] [0 6 9]\n",
      "[1 2 3 4 5 6 9] [0 7 8]\n",
      "[1 2 3 4 5 6 8] [0 7 9]\n",
      "[1 2 3 4 5 6 7] [0 8 9]\n",
      "[0 4 5 6 7 8 9] [1 2 3]\n",
      "[0 3 5 6 7 8 9] [1 2 4]\n",
      "[0 3 4 6 7 8 9] [1 2 5]\n",
      "[0 3 4 5 7 8 9] [1 2 6]\n",
      "[0 3 4 5 6 8 9] [1 2 7]\n",
      "[0 3 4 5 6 7 9] [1 2 8]\n",
      "[0 3 4 5 6 7 8] [1 2 9]\n",
      "[0 2 5 6 7 8 9] [1 3 4]\n",
      "[0 2 4 6 7 8 9] [1 3 5]\n",
      "[0 2 4 5 7 8 9] [1 3 6]\n",
      "[0 2 4 5 6 8 9] [1 3 7]\n",
      "[0 2 4 5 6 7 9] [1 3 8]\n",
      "[0 2 4 5 6 7 8] [1 3 9]\n",
      "[0 2 3 6 7 8 9] [1 4 5]\n",
      "[0 2 3 5 7 8 9] [1 4 6]\n",
      "[0 2 3 5 6 8 9] [1 4 7]\n",
      "[0 2 3 5 6 7 9] [1 4 8]\n",
      "[0 2 3 5 6 7 8] [1 4 9]\n",
      "[0 2 3 4 7 8 9] [1 5 6]\n",
      "[0 2 3 4 6 8 9] [1 5 7]\n",
      "[0 2 3 4 6 7 9] [1 5 8]\n",
      "[0 2 3 4 6 7 8] [1 5 9]\n",
      "[0 2 3 4 5 8 9] [1 6 7]\n",
      "[0 2 3 4 5 7 9] [1 6 8]\n",
      "[0 2 3 4 5 7 8] [1 6 9]\n",
      "[0 2 3 4 5 6 9] [1 7 8]\n",
      "[0 2 3 4 5 6 8] [1 7 9]\n",
      "[0 2 3 4 5 6 7] [1 8 9]\n",
      "[0 1 5 6 7 8 9] [2 3 4]\n",
      "[0 1 4 6 7 8 9] [2 3 5]\n",
      "[0 1 4 5 7 8 9] [2 3 6]\n",
      "[0 1 4 5 6 8 9] [2 3 7]\n",
      "[0 1 4 5 6 7 9] [2 3 8]\n",
      "[0 1 4 5 6 7 8] [2 3 9]\n",
      "[0 1 3 6 7 8 9] [2 4 5]\n",
      "[0 1 3 5 7 8 9] [2 4 6]\n",
      "[0 1 3 5 6 8 9] [2 4 7]\n",
      "[0 1 3 5 6 7 9] [2 4 8]\n",
      "[0 1 3 5 6 7 8] [2 4 9]\n",
      "[0 1 3 4 7 8 9] [2 5 6]\n",
      "[0 1 3 4 6 8 9] [2 5 7]\n",
      "[0 1 3 4 6 7 9] [2 5 8]\n",
      "[0 1 3 4 6 7 8] [2 5 9]\n",
      "[0 1 3 4 5 8 9] [2 6 7]\n",
      "[0 1 3 4 5 7 9] [2 6 8]\n",
      "[0 1 3 4 5 7 8] [2 6 9]\n",
      "[0 1 3 4 5 6 9] [2 7 8]\n",
      "[0 1 3 4 5 6 8] [2 7 9]\n",
      "[0 1 3 4 5 6 7] [2 8 9]\n",
      "[0 1 2 6 7 8 9] [3 4 5]\n",
      "[0 1 2 5 7 8 9] [3 4 6]\n",
      "[0 1 2 5 6 8 9] [3 4 7]\n",
      "[0 1 2 5 6 7 9] [3 4 8]\n",
      "[0 1 2 5 6 7 8] [3 4 9]\n",
      "[0 1 2 4 7 8 9] [3 5 6]\n",
      "[0 1 2 4 6 8 9] [3 5 7]\n",
      "[0 1 2 4 6 7 9] [3 5 8]\n",
      "[0 1 2 4 6 7 8] [3 5 9]\n",
      "[0 1 2 4 5 8 9] [3 6 7]\n",
      "[0 1 2 4 5 7 9] [3 6 8]\n",
      "[0 1 2 4 5 7 8] [3 6 9]\n",
      "[0 1 2 4 5 6 9] [3 7 8]\n",
      "[0 1 2 4 5 6 8] [3 7 9]\n",
      "[0 1 2 4 5 6 7] [3 8 9]\n",
      "[0 1 2 3 7 8 9] [4 5 6]\n",
      "[0 1 2 3 6 8 9] [4 5 7]\n",
      "[0 1 2 3 6 7 9] [4 5 8]\n",
      "[0 1 2 3 6 7 8] [4 5 9]\n",
      "[0 1 2 3 5 8 9] [4 6 7]\n",
      "[0 1 2 3 5 7 9] [4 6 8]\n",
      "[0 1 2 3 5 7 8] [4 6 9]\n",
      "[0 1 2 3 5 6 9] [4 7 8]\n",
      "[0 1 2 3 5 6 8] [4 7 9]\n",
      "[0 1 2 3 5 6 7] [4 8 9]\n",
      "[0 1 2 3 4 8 9] [5 6 7]\n",
      "[0 1 2 3 4 7 9] [5 6 8]\n",
      "[0 1 2 3 4 7 8] [5 6 9]\n",
      "[0 1 2 3 4 6 9] [5 7 8]\n",
      "[0 1 2 3 4 6 8] [5 7 9]\n",
      "[0 1 2 3 4 6 7] [5 8 9]\n",
      "[0 1 2 3 4 5 9] [6 7 8]\n",
      "[0 1 2 3 4 5 8] [6 7 9]\n",
      "[0 1 2 3 4 5 7] [6 8 9]\n",
      "[0 1 2 3 4 5 6] [7 8 9]\n"
     ]
    }
   ],
   "source": [
    "lpo = LeavePOut(p=3)\n",
    "\n",
    "for train,test in lpo.split(x,y):\n",
    "    print(train,test)"
   ]
  },
  {
   "cell_type": "code",
   "execution_count": 16,
   "id": "f193362e-171e-4c6b-a46b-e7a98c753372",
   "metadata": {},
   "outputs": [
    {
     "name": "stdout",
     "output_type": "stream",
     "text": [
      "[2 3 4 5 6 7 8 9] [0 1]\n",
      "[0 1 4 5 6 7 8 9] [2 3]\n",
      "[0 1 2 3 6 7 8 9] [4 5]\n",
      "[0 1 2 3 4 5 8 9] [6 7]\n",
      "[0 1 2 3 4 5 6 7] [8 9]\n"
     ]
    }
   ],
   "source": [
    "kf = KFold(n_splits=5)\n",
    "\n",
    "for train,test in kf.split(x,y):\n",
    "    print(train,test)"
   ]
  },
  {
   "cell_type": "code",
   "execution_count": null,
   "id": "4115524a-7ba5-41b3-bc12-5887a964c962",
   "metadata": {},
   "outputs": [],
   "source": [
    "# skf = StratifiedKFold()\n",
    "# StratifiedKFold works only on classification\n",
    "# for train,test in skf.split(x,y):\n",
    "#     print(train,test)"
   ]
  }
 ],
 "metadata": {
  "kernelspec": {
   "display_name": "Python 3 (ipykernel)",
   "language": "python",
   "name": "python3"
  },
  "language_info": {
   "codemirror_mode": {
    "name": "ipython",
    "version": 3
   },
   "file_extension": ".py",
   "mimetype": "text/x-python",
   "name": "python",
   "nbconvert_exporter": "python",
   "pygments_lexer": "ipython3",
   "version": "3.13.3"
  }
 },
 "nbformat": 4,
 "nbformat_minor": 5
}
